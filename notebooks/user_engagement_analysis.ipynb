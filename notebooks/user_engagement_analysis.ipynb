{
 "cells": [
  {
   "cell_type": "markdown",
   "metadata": {},
   "source": [
    "<h1>User Engagement Analysis</h1>"
   ]
  },
  {
   "cell_type": "code",
   "execution_count": 1,
   "metadata": {},
   "outputs": [],
   "source": [
    "# Importing the neccesary libraries and packages\n",
    "\n",
    "import pandas as pd\n",
    "import seaborn as sns\n",
    "import matplotlib.pyplot as plt\n",
    "import sys\n",
    "sys.path.append(\"..\")"
   ]
  },
  {
   "cell_type": "code",
   "execution_count": 38,
   "metadata": {},
   "outputs": [],
   "source": [
    "# Reading the data \n",
    "\n",
    "engagement_data = pd.read_csv('../data/user_overview_data.csv')\n",
    "pd.set_option('display.float_format', lambda x: '%.3f' % x)"
   ]
  },
  {
   "cell_type": "code",
   "execution_count": 39,
   "metadata": {},
   "outputs": [],
   "source": [
    "# Rename the columns for simplicity\n",
    "\n",
    "engagement_data.rename(columns={'Bearer Id':'Session Frequency', 'Dur. (ms)':'Total Duration', 'Total_UL_and_DL':'Total traffic'}, inplace= True)"
   ]
  },
  {
   "cell_type": "code",
   "execution_count": 40,
   "metadata": {},
   "outputs": [],
   "source": [
    "# Grouping and aggregating the data\n",
    "\n",
    "engagement_data = engagement_data.groupby('MSISDN/Number')\n",
    "engagement_data = engagement_data.agg({'Session Frequency':'count','Total Duration':'sum','Total traffic':'sum'})"
   ]
  },
  {
   "cell_type": "code",
   "execution_count": null,
   "metadata": {},
   "outputs": [],
   "source": [
    "# Creating a data set containing only the specified metrics\n",
    "\n",
    "engagement_cols = ['Session Frequency', 'Total Duration', 'Total traffic']\n",
    "engagement_agg = engagement_data[engagement_cols]"
   ]
  }
 ],
 "metadata": {
  "interpreter": {
   "hash": "8f1737a8abe2ff1d236679fe73074cb02b9d3c21b38d7b292322dec58f7986f9"
  },
  "kernelspec": {
   "display_name": "Python 3.9.12 ('newEnv')",
   "language": "python",
   "name": "python3"
  },
  "language_info": {
   "codemirror_mode": {
    "name": "ipython",
    "version": 3
   },
   "file_extension": ".py",
   "mimetype": "text/x-python",
   "name": "python",
   "nbconvert_exporter": "python",
   "pygments_lexer": "ipython3",
   "version": "3.9.12"
  },
  "orig_nbformat": 4
 },
 "nbformat": 4,
 "nbformat_minor": 2
}
