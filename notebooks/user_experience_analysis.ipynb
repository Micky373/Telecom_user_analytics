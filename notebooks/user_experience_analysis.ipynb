{
 "cells": [
  {
   "cell_type": "markdown",
   "metadata": {},
   "source": [
    "<h1>User Experience Analysis</h1>"
   ]
  }
 ],
 "metadata": {
  "interpreter": {
   "hash": "8f1737a8abe2ff1d236679fe73074cb02b9d3c21b38d7b292322dec58f7986f9"
  },
  "kernelspec": {
   "display_name": "Python 3.9.12 ('newEnv')",
   "language": "python",
   "name": "python3"
  },
  "language_info": {
   "codemirror_mode": {
    "name": "ipython",
    "version": 3
   },
   "file_extension": ".py",
   "mimetype": "text/x-python",
   "name": "python",
   "nbconvert_exporter": "python",
   "pygments_lexer": "ipython3",
   "version": "3.9.12"
  },
  "orig_nbformat": 4
 },
 "nbformat": 4,
 "nbformat_minor": 2
}
